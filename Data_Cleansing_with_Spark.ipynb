{
 "cells": [
  {
   "cell_type": "code",
   "execution_count": null,
   "metadata": {
    "colab": {
     "background_save": true,
     "base_uri": "https://localhost:8080/"
    },
    "id": "3SV-YTNRpMKy",
    "outputId": "5fa0a085-40fe-4151-e148-b2fb0ad09fcf"
   },
   "outputs": [],
   "source": [
    "!apt-get update                                                                          # อัพเดท Package ทั้งหมดใน VM ตัวนี้\n",
    "!apt-get install openjdk-8-jdk-headless -qq > /dev/null                                  # ติดตั้ง Java Development Kit (จำเป็นสำหรับการติดตั้ง Spark)\n",
    "!wget -q https://archive.apache.org/dist/spark/spark-3.1.2/spark-3.1.2-bin-hadoop2.7.tgz # ติดตั้ง Spark 3.1.2\n",
    "!tar xzvf spark-3.1.2-bin-hadoop2.7.tgz                                                  # Unzip ไฟล์ Spark 3.1.2\n",
    "!pip install -q findspark==1.3.0                                                         # ติดตั้ง Package Python สำหรับเชื่อมต่อกับ Spark "
   ]
  },
  {
   "cell_type": "code",
   "execution_count": null,
   "metadata": {
    "colab": {
     "background_save": true
    },
    "id": "6Dwpn8wv9lgO"
   },
   "outputs": [],
   "source": [
    "# Set enviroment variable ให้ Python รู้จัก Spark\n",
    "import os\n",
    "os.environ[\"JAVA_HOME\"] = \"/usr/lib/jvm/java-8-openjdk-amd64\"\n",
    "os.environ[\"SPARK_HOME\"] = \"/content/spark-3.1.2-bin-hadoop2.7\""
   ]
  },
  {
   "cell_type": "code",
   "execution_count": null,
   "metadata": {
    "colab": {
     "background_save": true
    },
    "id": "qHNIVIS8ygwc",
    "outputId": "38c2ca0a-29f4-43c4-8a06-ac09a7ec3cff"
   },
   "outputs": [],
   "source": [
    "# ติดตั้ง PySpark ลงใน Python\n",
    "!pip install pyspark==3.1.2"
   ]
  },
  {
   "cell_type": "code",
   "execution_count": null,
   "metadata": {
    "colab": {
     "base_uri": "https://localhost:8080/"
    },
    "id": "ASZqLPXDPJJB",
    "outputId": "d3f2b813-cb8a-4c50-8a6a-81c76fa5ae78"
   },
   "outputs": [],
   "source": [
    "# Server ของ Google Colab มีกี่ Core\n",
    "!cat /proc/cpuinfo"
   ]
  },
  {
   "cell_type": "code",
   "execution_count": null,
   "metadata": {
    "id": "XOC1AgcQwRz1"
   },
   "outputs": [],
   "source": [
    "ใช้ `local[*]` เพื่อเปิดการใช้งานการประมวลผลแบบ multi-core. Spark จะใช้ CPU ทุก core ที่อนุญาตให้ใช้งานในเครื่อง."
   ]
  },
  {
   "cell_type": "code",
   "execution_count": null,
   "metadata": {
    "colab": {
     "background_save": true
    },
    "id": "e6-PYi44nH2e"
   },
   "outputs": [],
   "source": [
    "# สร้าง Spark Session เพิ้อใช้งาน Spark\n",
    "from pyspark.sql import SparkSession\n",
    "spark = SparkSession.builder.master(\"local[*]\").getOrCreate()"
   ]
  },
  {
   "cell_type": "code",
   "execution_count": null,
   "metadata": {
    "colab": {
     "base_uri": "https://localhost:8080/"
    },
    "id": "c8Fuuh_8ocdw",
    "outputId": "f481736d-a04c-4866-f42b-acb6aec948b7"
   },
   "outputs": [],
   "source": [
    "# ดูเวอร์ชั่น Python\n",
    "import sys\n",
    "sys.version_info"
   ]
  },
  {
   "cell_type": "code",
   "execution_count": null,
   "metadata": {
    "colab": {
     "base_uri": "https://localhost:8080/",
     "height": 37
    },
    "id": "obpcIPP4oOvk",
    "outputId": "e7549ad9-4a56-4789-fcff-4c8bed5d59bd"
   },
   "outputs": [],
   "source": [
    "# ดูเวอร์ชั่น Spark\n",
    "spark.version"
   ]
  },
  {
   "cell_type": "code",
   "execution_count": 1,
   "metadata": {
    "id": "7t8xQWVEi7tU"
   },
   "outputs": [],
   "source": [
    "## Load  Data"
   ]
  },
  {
   "cell_type": "code",
   "execution_count": null,
   "metadata": {
    "colab": {
     "base_uri": "https://localhost:8080/"
    },
    "id": "2a0K_ljDi-r5",
    "outputId": "43509f50-ca47-4552-9cc7-328f7a83fb4b"
   },
   "outputs": [],
   "source": [
    "# Download Data File\n",
    "!wget -O data.zip https://file.designil.com/zdOfUE+\n",
    "!unzip data.zip"
   ]
  },
  {
   "cell_type": "code",
   "execution_count": null,
   "metadata": {
    "id": "8Ho4MvryoY9u"
   },
   "outputs": [],
   "source": [
    "dt = spark.read.csv('/content/ws2_data.csv', header = True, inferSchema = True, )"
   ]
  },
  {
   "cell_type": "code",
   "execution_count": 2,
   "metadata": {
    "id": "gKBjHvpzTM6-"
   },
   "outputs": [],
   "source": [
    "# Step 2) Data Profiling"
   ]
  },
  {
   "cell_type": "code",
   "execution_count": null,
   "metadata": {
    "colab": {
     "base_uri": "https://localhost:8080/"
    },
    "id": "qpb7PcpSrOWe",
    "outputId": "30aab199-95b8-409e-8e57-1574831c455e"
   },
   "outputs": [],
   "source": [
    "# ดูว่ามีคอลัมน์อะไรบ้าง\n",
    "dt"
   ]
  },
  {
   "cell_type": "code",
   "execution_count": null,
   "metadata": {
    "colab": {
     "base_uri": "https://localhost:8080/"
    },
    "id": "7rEzUAWCS3Gd",
    "outputId": "062e2230-fe39-43b7-d5e5-b32b1e05d111"
   },
   "outputs": [],
   "source": [
    "# ดูข้อมูล\n",
    "dt.show()"
   ]
  },
  {
   "cell_type": "code",
   "execution_count": null,
   "metadata": {
    "colab": {
     "base_uri": "https://localhost:8080/"
    },
    "id": "XOgygtSZUenr",
    "outputId": "9d1a65cc-2753-461b-b2e5-6d0365b741cd"
   },
   "outputs": [],
   "source": [
    "# ดูข้อมูล 100 แถวแรก\n",
    "dt.show(100)"
   ]
  },
  {
   "cell_type": "code",
   "execution_count": null,
   "metadata": {
    "colab": {
     "base_uri": "https://localhost:8080/"
    },
    "id": "Er9ltLyoCJxo",
    "outputId": "6aeffe38-0ce5-4ad3-a0d4-7fbdf72c1ba6"
   },
   "outputs": [],
   "source": [
    "# อีกคำสั่งในการดูข้อมูลแต่ละคอลัมน์ (Schema)\n",
    "dt.printSchema()"
   ]
  },
  {
   "cell_type": "code",
   "execution_count": null,
   "metadata": {
    "colab": {
     "base_uri": "https://localhost:8080/"
    },
    "id": "brQdwlRpCVSi",
    "outputId": "29be9bf9-866c-4b08-bf43-e93edbf81d1c"
   },
   "outputs": [],
   "source": [
    "# นับจำนวนแถวและ column\n",
    "print((dt.count(), len(dt.columns)))"
   ]
  },
  {
   "cell_type": "code",
   "execution_count": null,
   "metadata": {
    "colab": {
     "base_uri": "https://localhost:8080/"
    },
    "id": "hZ9V4iQKUi2i",
    "outputId": "b1ac57fe-11f9-453c-9c77-6d98cb39f7b1"
   },
   "outputs": [],
   "source": [
    "# สรุปข้อมูลสถิติ\n",
    "dt.describe().show()"
   ]
  },
  {
   "cell_type": "code",
   "execution_count": null,
   "metadata": {
    "colab": {
     "base_uri": "https://localhost:8080/"
    },
    "id": "DJ7xtdKgVvKO",
    "outputId": "8ba92546-530b-47ed-e978-861fa2ad499a"
   },
   "outputs": [],
   "source": [
    "# อีกคำสั่งในการสรุปข้อมูลสถิติ\n",
    "# ReferenceL: https://spark.apache.org/docs/latest/api/python/reference/api/pyspark.sql.DataFrame.summary.html\n",
    "\n",
    "dt.summary().show()"
   ]
  },
  {
   "cell_type": "code",
   "execution_count": null,
   "metadata": {
    "colab": {
     "base_uri": "https://localhost:8080/"
    },
    "id": "LBmjzCqjM_MR",
    "outputId": "54c201ab-215e-4c97-88dd-a36e2b9700c1"
   },
   "outputs": [],
   "source": [
    "# สรุปข้อมูลสถิติเฉพาะ column ที่ระบุ\n",
    "dt.select(\"price\").describe().show()"
   ]
  },
  {
   "cell_type": "code",
   "execution_count": null,
   "metadata": {
    "colab": {
     "base_uri": "https://localhost:8080/"
    },
    "id": "hLnRRd2MrvAl",
    "outputId": "e55c19d4-f1a2-41c1-d0c9-ebfb06cee8d6"
   },
   "outputs": [],
   "source": [
    "# Solution - คอลัมน์ไหน? user_id\n",
    "dt.summary(\"count\").show()"
   ]
  },
  {
   "cell_type": "code",
   "execution_count": null,
   "metadata": {
    "colab": {
     "base_uri": "https://localhost:8080/"
    },
    "id": "mJ22Bp_ZsPkd",
    "outputId": "5755d3f7-8395-4f97-d6dd-ab6743767651"
   },
   "outputs": [],
   "source": [
    "# Solution - แสดงแถวข้อมูลที่มี Missing Value\n",
    "dt.where( dt.user_id.isNull() ).show()"
   ]
  },
  {
   "cell_type": "code",
   "execution_count": 6,
   "metadata": {
    "id": "qe1VrTpETgar"
   },
   "outputs": [],
   "source": [
    "# Step 3) EDA - Exploratory Data Analysis"
   ]
  },
  {
   "cell_type": "code",
   "execution_count": null,
   "metadata": {
    "id": "LRmig4MaQm2s"
   },
   "outputs": [],
   "source": [
    "## Non-Graphical EDA\n",
    "\n",
    "เราสามารถใช้คำสั่ง Spark ในการค้นหาข้อมูลที่ต้องการได้"
   ]
  },
  {
   "cell_type": "code",
   "execution_count": null,
   "metadata": {
    "colab": {
     "base_uri": "https://localhost:8080/"
    },
    "id": "AGkcJ3kDQmJ5",
    "outputId": "c473465c-47eb-413e-91bb-7a094ec9c5d5"
   },
   "outputs": [],
   "source": [
    "# ข้อมูลที่เป็นตัวเลข\n",
    "dt.where(dt.price >= 1).show()"
   ]
  },
  {
   "cell_type": "code",
   "execution_count": null,
   "metadata": {
    "colab": {
     "base_uri": "https://localhost:8080/"
    },
    "id": "ccWQBqMXxd2O",
    "outputId": "31339ee2-fe60-4c83-ade8-f57108066e19"
   },
   "outputs": [],
   "source": [
    "# ข้อมูลที่เป็นตัวหนังสือ\n",
    "dt.where(dt.country == 'Canada').show()"
   ]
  },
  {
   "cell_type": "code",
   "execution_count": null,
   "metadata": {
    "id": "TOnfZz27XhjX"
   },
   "outputs": [],
   "source": [
    "### Exercise 2: \n",
    "1. การซื้อทั้งหมดที่เกิดขึ้นในเดือนเมษายน มีกี่แถว\n",
    "2. การซื้อทั้งหมดที่เกิดขึ้นในเดือนสิงหาคม มีกี่แถว"
   ]
  },
  {
   "cell_type": "code",
   "execution_count": null,
   "metadata": {
    "colab": {
     "base_uri": "https://localhost:8080/"
    },
    "id": "zgPm8dsraxNx",
    "outputId": "f24b2089-3324-43d6-f33c-ce190f997a23"
   },
   "outputs": [],
   "source": [
    "# Solution - ไม่มีสักแถว (ข้อมูลมีแค่เดือน 5 - 7)\n",
    "dt.where( dt.timestamp.startswith(\"2021-04\") ).count()\n",
    "dt.where( dt.timestamp.startswith(\"2021-08\") ).count()"
   ]
  },
  {
   "cell_type": "code",
   "execution_count": null,
   "metadata": {
    "colab": {
     "base_uri": "https://localhost:8080/"
    },
    "id": "2aHWm7HjzbRe",
    "outputId": "2e3c7a64-3fb5-4f9a-ccb3-f834013f09ff"
   },
   "outputs": [],
   "source": [
    "dt.filter(dt.timestamp >= \"2021-04-01\").filter(dt.timestamp <= \"2021-04-30\").count()"
   ]
  },
  {
   "cell_type": "code",
   "execution_count": 7,
   "metadata": {
    "id": "NN3m9gpHkS5H"
   },
   "outputs": [],
   "source": [
    "## Graphical EDA\n",
    "\n"
   ]
  },
  {
   "cell_type": "code",
   "execution_count": null,
   "metadata": {
    "id": "BWu_zxdONk0o"
   },
   "outputs": [],
   "source": [
    "import seaborn as sns\n",
    "import matplotlib.pyplot as plt\n",
    "import pandas as pd"
   ]
  },
  {
   "cell_type": "code",
   "execution_count": null,
   "metadata": {
    "id": "861ui21dNy-N"
   },
   "outputs": [],
   "source": [
    "# แปลง Spark Dataframe เป็น Pandas Dataframe - ใช้เวลาประมาณ 6 วินาที\n",
    "dt_pd = dt.toPandas()"
   ]
  },
  {
   "cell_type": "code",
   "execution_count": null,
   "metadata": {
    "colab": {
     "base_uri": "https://localhost:8080/",
     "height": 202
    },
    "id": "vpF73lu_Rn-_",
    "outputId": "80ed5526-4d8a-4eab-d653-c7bd85ab4e2e"
   },
   "outputs": [],
   "source": [
    "# ดูตัวอย่างข้อมูล\n",
    "dt_pd.head()"
   ]
  },
  {
   "cell_type": "code",
   "execution_count": null,
   "metadata": {
    "colab": {
     "base_uri": "https://localhost:8080/",
     "height": 297
    },
    "id": "Dw91uylC7B_x",
    "outputId": "e9d49cbd-3b53-44fb-92cd-ef36f9cb5e3d"
   },
   "outputs": [],
   "source": [
    "# Boxplot - แสดงการกระจายตัวของข้อมูลตัวเลข\n",
    "sns.boxplot(x = dt_pd['book_id'])"
   ]
  },
  {
   "cell_type": "code",
   "execution_count": null,
   "metadata": {
    "colab": {
     "base_uri": "https://localhost:8080/",
     "height": 298
    },
    "id": "IYbSz2HuO2sr",
    "outputId": "1a1b1300-4213-4f18-c78d-be9984f534ab"
   },
   "outputs": [],
   "source": [
    "# Histogram - แสดงการกระจายตัวของข้อมูลตัวเลข\n",
    "# bins = จำนวน bar ที่ต้องการแสดง\n",
    "sns.histplot(dt_pd['price'], bins=10)"
   ]
  },
  {
   "cell_type": "code",
   "execution_count": null,
   "metadata": {
    "colab": {
     "base_uri": "https://localhost:8080/",
     "height": 297
    },
    "id": "t1N-03d9O83E",
    "outputId": "53355d8e-7a28-45a7-fdf2-2973ef691b4d"
   },
   "outputs": [],
   "source": [
    "# Solution - ใช้ Scatterplot\n",
    "sns.scatterplot(x=dt_pd.book_id, y=dt_pd.price)"
   ]
  },
  {
   "cell_type": "code",
   "execution_count": null,
   "metadata": {
    "id": "tVliQZLC0LuP"
   },
   "outputs": [],
   "source": [
    "####  สร้าง interactive chart"
   ]
  },
  {
   "cell_type": "code",
   "execution_count": null,
   "metadata": {
    "colab": {
     "base_uri": "https://localhost:8080/",
     "height": 542
    },
    "id": "4Bb0F-9zTI1X",
    "outputId": "963ff848-1f4b-4a5a-c018-fff9defe58cc"
   },
   "outputs": [],
   "source": [
    "# Plotly - interactive chart\n",
    "import plotly.express as px\n",
    "fig = px.scatter(dt_pd, 'book_id', 'price')\n",
    "fig.show()"
   ]
  },
  {
   "cell_type": "code",
   "execution_count": null,
   "metadata": {
    "id": "fbAnv3_Rwj5l"
   },
   "outputs": [],
   "source": [
    "# Step 4) Data Cleansing with Spark"
   ]
  },
  {
   "cell_type": "code",
   "execution_count": null,
   "metadata": {
    "id": "iXLHVsbwk08q"
   },
   "outputs": [],
   "source": [
    "### แปลง Data Type\n",
    "\n",
    "ปัญหาที่เจอบ่อยที่สุดแบบหนึ่งในข้อมูล คือ **Data Type ไม่ตรงกับที่เราต้องการ**"
   ]
  },
  {
   "cell_type": "code",
   "execution_count": null,
   "metadata": {
    "colab": {
     "base_uri": "https://localhost:8080/"
    },
    "id": "c5lBKmAM2DSu",
    "outputId": "79d23b72-d946-4a96-c221-a7cbd181c359"
   },
   "outputs": [],
   "source": [
    "dt.show(truncate=False)"
   ]
  },
  {
   "cell_type": "code",
   "execution_count": null,
   "metadata": {
    "colab": {
     "base_uri": "https://localhost:8080/"
    },
    "id": "Pb7BB-e3k4g-",
    "outputId": "dd39d9e7-036e-4851-e752-d74ee8e2063a"
   },
   "outputs": [],
   "source": [
    "# Show top 5 rows\n",
    "dt.show(5)"
   ]
  },
  {
   "cell_type": "code",
   "execution_count": null,
   "metadata": {
    "colab": {
     "base_uri": "https://localhost:8080/"
    },
    "id": "f7gFtSr0Fbne",
    "outputId": "978a1848-bf03-46aa-98e6-f50155e342e5"
   },
   "outputs": [],
   "source": [
    "# Show Schema\n",
    "dt.printSchema()"
   ]
  },
  {
   "cell_type": "code",
   "execution_count": null,
   "metadata": {
    "colab": {
     "base_uri": "https://localhost:8080/"
    },
    "id": "Hu6po7nVGhj6",
    "outputId": "3c2bf097-5709-415c-8d1f-aefe906f1f64"
   },
   "outputs": [],
   "source": [
    "dt.select(\"timestamp\").show(10)"
   ]
  },
  {
   "cell_type": "code",
   "execution_count": null,
   "metadata": {
    "colab": {
     "base_uri": "https://localhost:8080/"
    },
    "id": "rnerFBErFelC",
    "outputId": "aa5ed4e9-db91-4405-d2a2-7033a0293e62"
   },
   "outputs": [],
   "source": [
    "# แปลง string เป็น datetime\n",
    "from pyspark.sql import functions as f\n",
    "\n",
    "dt_clean = dt.withColumn(\"timestamp\",\n",
    "                        f.to_timestamp(dt.timestamp, 'yyyy-MM-dd HH:mm:ss')\n",
    "                        )\n",
    "dt_clean.show()"
   ]
  },
  {
   "cell_type": "code",
   "execution_count": null,
   "metadata": {
    "colab": {
     "base_uri": "https://localhost:8080/"
    },
    "id": "Pq7sQ-h6T6cp",
    "outputId": "22f3a9fc-bdb3-4603-dda5-37b0ba2af67a"
   },
   "outputs": [],
   "source": [
    "dt_clean.printSchema()"
   ]
  },
  {
   "cell_type": "code",
   "execution_count": null,
   "metadata": {
    "colab": {
     "base_uri": "https://localhost:8080/"
    },
    "id": "NMiWFpDtJFdM",
    "outputId": "8e72ae03-364e-4a8c-f669-2781d6452534"
   },
   "outputs": [],
   "source": [
    "# นับยอด transaction ช่วงครึ่งเดือนแรก ของเดือนมิถุนายน\n",
    "dt_clean.where( (f.dayofmonth(dt_clean.timestamp) <= 15) & ( f.month(dt_clean.timestamp) == 6 ) ).count()"
   ]
  },
  {
   "cell_type": "code",
   "execution_count": null,
   "metadata": {
    "id": "NlewC3HjbMty"
   },
   "outputs": [],
   "source": [
    "## Anomalies Check\n",
    "\n",
    "ใช้ Spark ตามหาสิ่งที่ผิดปกติในข้อมูล"
   ]
  },
  {
   "cell_type": "code",
   "execution_count": null,
   "metadata": {
    "id": "YQmzIi6c2Ugp"
   },
   "outputs": [],
   "source": [
    "###  Syntactical Anomalies"
   ]
  },
  {
   "cell_type": "code",
   "execution_count": null,
   "metadata": {
    "id": "bc8tGnIJRlW9"
   },
   "outputs": [],
   "source": [
    "คุณเห็นชื่อประเทศที่สะกดผิดในคอลัมน์ Country มั้ย"
   ]
  },
  {
   "cell_type": "code",
   "execution_count": null,
   "metadata": {
    "colab": {
     "base_uri": "https://localhost:8080/"
    },
    "id": "htfmeHuZ2VPo",
    "outputId": "4612bf0e-fce8-4e01-c207-cfa45173c3eb"
   },
   "outputs": [],
   "source": [
    "# ใน Data set ชุดนี้ มีข้อมูลจากกี่ประเทศ\n",
    "dt_clean.select(\"Country\").distinct().count()"
   ]
  },
  {
   "cell_type": "code",
   "execution_count": null,
   "metadata": {
    "colab": {
     "base_uri": "https://localhost:8080/"
    },
    "id": "K4Ei25HVQcC1",
    "outputId": "044f9927-d5b2-4d52-b235-ac0b99ed772f"
   },
   "outputs": [],
   "source": [
    "# แทนที่เลข 0 ด้วยจำนวนประเทศ เพื่อดูรายชื่อประเทศทั้งหมด\n",
    "# sort = ทำให้ข้อมูลเรียงตามตัวอักษร อ่านง่ายขึ้น\n",
    "# show() ถ้าไม่ใส่ตัวเลขจะขึ้นมาแค่ 20 อัน และใส่ False เพื่อให้แสดงข้อมูลในคอลัมน์แบบเต็ม ๆ (หากไม่ใส่ คอลัมน์ที่ยาวจะถูกตัดตัวหนังสือ)\n",
    "dt_clean.select(\"Country\").distinct().sort(\"Country\").show( 58, False )"
   ]
  },
  {
   "cell_type": "code",
   "execution_count": null,
   "metadata": {
    "colab": {
     "base_uri": "https://localhost:8080/"
    },
    "id": "FSGUoi-eUl5U",
    "outputId": "9aafb2a1-4b80-4af8-96ef-d363727bfd9b"
   },
   "outputs": [],
   "source": [
    "# สำคัญ: เปลี่ยน aaa เป็นชื่อประเทศที่คุณคิดว่าผิด\n",
    "dt_clean.where(dt_clean['Country'] == 'Japane').show()"
   ]
  },
  {
   "cell_type": "code",
   "execution_count": null,
   "metadata": {
    "id": "03YDBKivjIfh"
   },
   "outputs": [],
   "source": [
    "# สำคัญ: เปลี่ยน aaa เป็นชื่อประเทศที่คุณคิดว่าผิด และ bbb เป็นชื่อประเทศที่ถูกต้อง\n",
    "from pyspark.sql.functions import when\n",
    "\n",
    "dt_clean_country = dt_clean.withColumn(\"CountryUpdate\", when(dt_clean['Country'] == 'Japane', 'Japan').otherwise(dt_clean['Country']))"
   ]
  },
  {
   "cell_type": "code",
   "execution_count": null,
   "metadata": {
    "colab": {
     "base_uri": "https://localhost:8080/"
    },
    "id": "aHp2xBfIknNx",
    "outputId": "b9daa968-f438-4549-ba8e-1c536b058243"
   },
   "outputs": [],
   "source": [
    "# ตรวจสอบข้อมูลที่แก้ไขแล้ว\n",
    "dt_clean_country.select(\"CountryUpdate\").distinct().sort(\"CountryUpdate\").show(58, False)"
   ]
  },
  {
   "cell_type": "code",
   "execution_count": null,
   "metadata": {
    "colab": {
     "base_uri": "https://localhost:8080/"
    },
    "id": "vkNf0x8oT6HB",
    "outputId": "f10a8596-752f-4dfe-e51f-65ebf1f9d427"
   },
   "outputs": [],
   "source": [
    "# ดูหน้าตาข้อมูลตอนนี้\n",
    "dt_clean_country.show()"
   ]
  },
  {
   "cell_type": "code",
   "execution_count": null,
   "metadata": {
    "id": "EXspKbmMlDEA"
   },
   "outputs": [],
   "source": [
    "# เอาคอลัมน์ CountryUpdate ไปแทนที่คอลัมน์ Country\n",
    "dt_clean = dt_clean_country.drop(\"Country\").withColumnRenamed('CountryUpdate', 'Country')"
   ]
  },
  {
   "cell_type": "code",
   "execution_count": null,
   "metadata": {
    "colab": {
     "base_uri": "https://localhost:8080/"
    },
    "id": "1UP2l5g-VkFJ",
    "outputId": "1b02884e-b9a6-4b9e-b6c9-35c7a6a58a50"
   },
   "outputs": [],
   "source": [
    "# ดูหน้าตาข้อมูล\n",
    "dt_clean.show()"
   ]
  },
  {
   "cell_type": "code",
   "execution_count": null,
   "metadata": {
    "id": "-kyrqLYF2YjO"
   },
   "outputs": [],
   "source": [
    "### ความผิดปกติ 2) Semantic Anomalies\n",
    "\n",
    "**Integrity constraints**: ค่าอยู่นอกเหนือขอบเขตของค่าที่รับได้ เช่น\n",
    "- user_id: ค่าจะต้องเป็นตัวเลขหรือตัวหนังสือ 8 ตัวอักษร"
   ]
  },
  {
   "cell_type": "code",
   "execution_count": null,
   "metadata": {
    "colab": {
     "base_uri": "https://localhost:8080/"
    },
    "id": "Iasmydx2TEYG",
    "outputId": "4dd86d7a-175c-4bd1-d47b-60538a8a62ff"
   },
   "outputs": [],
   "source": [
    "# ดูว่าข้อมูล user_id ตอนนี้หน้าตาเป็นอย่างไร\n",
    "dt_clean.select(\"user_id\").show(10)"
   ]
  },
  {
   "cell_type": "code",
   "execution_count": null,
   "metadata": {
    "colab": {
     "base_uri": "https://localhost:8080/"
    },
    "id": "ZVtj_wvpsdn4",
    "outputId": "443f2d29-c161-48b7-815b-a859c879c440"
   },
   "outputs": [],
   "source": [
    "# นับจำนวน user_id ทั้งหมด\n",
    "dt_clean.select(\"user_id\").count()"
   ]
  },
  {
   "cell_type": "code",
   "execution_count": null,
   "metadata": {
    "id": "XaViXptRXJXQ"
   },
   "outputs": [],
   "source": [
    "ดูว่า user_id ตรงตามรูปแบบที่เราต้องการ มีกี่แถว\n",
    "\n",
    "คำใบ้: ใช้เว็บไซต์ https://www.regex101.com เพื่อสร้าง Regular Expression ตามรูปแบบที่เราต้องการ"
   ]
  },
  {
   "cell_type": "code",
   "execution_count": null,
   "metadata": {
    "colab": {
     "base_uri": "https://localhost:8080/"
    },
    "id": "i3H6sWVsrSn-",
    "outputId": "07064d98-d453-4c4f-ea03-dcc482ac0c9d"
   },
   "outputs": [],
   "source": [
    "# แทนที่ ... ด้วย Regular Expression ของรูปแบบ user_id ที่เราต้องการ\n",
    "dt_clean.where(dt_clean[\"user_id\"].rlike(\"^[a-z0-9]{8}$\")).count()"
   ]
  },
  {
   "cell_type": "code",
   "execution_count": null,
   "metadata": {
    "colab": {
     "base_uri": "https://localhost:8080/"
    },
    "id": "5tE-VcSQXWzp",
    "outputId": "90bce76e-af3d-4c4b-80db-fe82ef073653"
   },
   "outputs": [],
   "source": [
    "# แทนที่ ... ด้วย Regular Expression ของรูปแบบ user_id ที่เราต้องการ\n",
    "dt_correct_userid = dt_clean.filter(dt_clean[\"user_id\"].rlike(\"^[a-z0-9]{8}$\"))\n",
    "dt_incorrect_userid = dt_clean.subtract(dt_correct_userid)\n",
    "\n",
    "dt_incorrect_userid.show(10)"
   ]
  },
  {
   "cell_type": "code",
   "execution_count": null,
   "metadata": {
    "id": "g2SAQYLuuKgX"
   },
   "outputs": [],
   "source": [
    "# ลองเอาโค้ดำสหรับแทนค่า จาก Exercise 4 มาใช้\n",
    "dt_clean_userid = dt_clean.withColumn(\"user_id_update\", when(dt_clean['user_id'] == 'ca86d17200', 'ca86d172').otherwise(dt_clean['user_id']))"
   ]
  },
  {
   "cell_type": "code",
   "execution_count": null,
   "metadata": {
    "colab": {
     "base_uri": "https://localhost:8080/"
    },
    "id": "2Ko7m6mbwJJj",
    "outputId": "fa2cd1dd-6fea-40c4-ddab-e1de1ffb5bc0"
   },
   "outputs": [],
   "source": [
    "# ตรวจสอบผลลัพธ์\n",
    "dt_correct_userid = dt_clean_userid.filter(dt_clean_userid[\"user_id\"].rlike(\"^[a-z0-9]{8}$\"))\n",
    "dt_incorrect_userid = dt_clean_userid.subtract(dt_correct_userid)\n",
    "\n",
    "dt_incorrect_userid.show(10)"
   ]
  },
  {
   "cell_type": "code",
   "execution_count": null,
   "metadata": {
    "id": "m6LoL8etxNSO"
   },
   "outputs": [],
   "source": [
    "# เอาคอลัมน์ user_id_update ไปแทนที่ user_id\n",
    "dt_clean = dt_clean_userid.drop(\"user_id\").withColumnRenamed('user_id_update', 'user_id')"
   ]
  },
  {
   "cell_type": "code",
   "execution_count": null,
   "metadata": {
    "id": "4kCf3LsX2b8L"
   },
   "outputs": [],
   "source": [
    "###  Missing values\n"
   ]
  },
  {
   "cell_type": "code",
   "execution_count": null,
   "metadata": {
    "colab": {
     "base_uri": "https://localhost:8080/"
    },
    "id": "T11c7iUs24Cu",
    "outputId": "e7ff45a5-4894-461b-9b13-7a24a5a27e60"
   },
   "outputs": [],
   "source": [
    "# วิธีที่ 1 ในการเช็ค Missing Value\n",
    "# ใช้เทคนิค List Comparehension - ทบทวนได้ใน Pre-course Python https://school.datath.com/courses/road-to-data-engineer-2/contents/6129b780564a8\n",
    "# เช่น [ print(i) for i in [1,2,3] ]\n",
    "\n",
    "# col = คำสั่ง Spark ในการเลือกคอลัมน์\n",
    "# sum = คำสั่ง Spark ในการคิดผลรวม\n",
    "from pyspark.sql.functions import col, sum\n",
    "\n",
    "dt_nulllist = dt_clean.select([ sum(col(colname).isNull().cast(\"int\")).alias(colname) for colname in dt_clean.columns ])\n",
    "dt_nulllist.show()"
   ]
  },
  {
   "cell_type": "code",
   "execution_count": null,
   "metadata": {
    "colab": {
     "base_uri": "https://localhost:8080/"
    },
    "id": "qH7jfJTZdFwk",
    "outputId": "a0ca7bda-6368-4a12-c721-a21e3417e9e3"
   },
   "outputs": [],
   "source": [
    "# วิธีที่ 2 ในการเช็ค Missing Value - จาก Exercise 1 โค้ดสะอาดกว่ามาก แต่ต้องมาบวกลบเอง\n",
    "dt_clean.summary(\"count\").show()"
   ]
  },
  {
   "cell_type": "code",
   "execution_count": null,
   "metadata": {
    "colab": {
     "base_uri": "https://localhost:8080/"
    },
    "id": "8Bi3ql4PzXae",
    "outputId": "95e9b1de-c6e2-422f-9802-f3162e53e8cb"
   },
   "outputs": [],
   "source": [
    "# ดูช้อมูลว่าแถวไหนมี user_id เป็นค่าว่างเปล่า (โค้ดเดียวกับ Exercise 1)\n",
    "\n",
    "dt_clean.where( dt_clean.user_id.isNull() ).show()"
   ]
  },
  {
   "cell_type": "code",
   "execution_count": null,
   "metadata": {
    "id": "Xp3uwpf-Ty8Y"
   },
   "outputs": [],
   "source": [
    "#### Exercise 6:\n",
    "ทางทีม Data Analyst แจ้งว่าอยากให้เราแทน user_id ที่เป็น NULL ด้วย 00000000 ไปเลย"
   ]
  },
  {
   "cell_type": "code",
   "execution_count": null,
   "metadata": {
    "id": "wnwxPdTHTyS5"
   },
   "outputs": [],
   "source": [
    "# Solution\n",
    "\n",
    "dt_clean_userid = dt_clean.withColumn(\"user_id_update\", when(dt_clean['user_id'].isNull(), '00000000').otherwise(dt_clean['user_id']))"
   ]
  },
  {
   "cell_type": "code",
   "execution_count": null,
   "metadata": {
    "colab": {
     "base_uri": "https://localhost:8080/",
     "height": 162
    },
    "id": "0cOYgi6OenZh",
    "outputId": "03ecd919-a1ea-4cb8-bd41-cdf145c75eed"
   },
   "outputs": [],
   "source": [
    "dt_clean = dt_clean_userid.drop(\"user_id\").withColumnRenamed('user_id_update', 'user_id')"
   ]
  },
  {
   "cell_type": "code",
   "execution_count": null,
   "metadata": {
    "colab": {
     "base_uri": "https://localhost:8080/"
    },
    "id": "eJUNqs_1e1SY",
    "outputId": "f38a97be-71d6-4b30-d0b6-6221c26b71bc"
   },
   "outputs": [],
   "source": [
    "# เช็คว่า user ID ที่เป็น NULL หายไปแล้วจริงไหม\n",
    "dt_clean.where( dt_clean.user_id.isNull() ).show()"
   ]
  },
  {
   "cell_type": "code",
   "execution_count": null,
   "metadata": {
    "id": "G9WmtPhUOJHi"
   },
   "outputs": [],
   "source": [
    "### ความผิดปกติ 4) Outliers:\n",
    "\n",
    "ข้อมูลที่สูงหรือต่ำผิดปกติจากข้อมูลส่วนใหญ่\n",
    "\n",
    "มาลองใช้ Boxplot ในการหาค่า Outlier ของราคาหนังสือ"
   ]
  },
  {
   "cell_type": "code",
   "execution_count": null,
   "metadata": {
    "id": "Hz_NYXoNfmBM"
   },
   "outputs": [],
   "source": [
    "dt_clean_pd = dt_clean.toPandas()"
   ]
  },
  {
   "cell_type": "code",
   "execution_count": null,
   "metadata": {
    "colab": {
     "base_uri": "https://localhost:8080/",
     "height": 296
    },
    "id": "ejSTm4SvfOeX",
    "outputId": "4c175cb6-b6cf-4661-f80b-d5a7ecb264cd"
   },
   "outputs": [],
   "source": [
    "sns.boxplot(x = dt_clean_pd['price'])"
   ]
  },
  {
   "cell_type": "code",
   "execution_count": null,
   "metadata": {
    "id": "iI-MxExWfsXH"
   },
   "outputs": [],
   "source": [
    "เห็นได้ว่ามีหนังสือบางเล่มที่ราคาสูงกว่าปกติไปเยอะมาก ลองมาดูกันว่าหนังสือ book_id อะไรบ้าง ที่ราคาเกิน $80"
   ]
  },
  {
   "cell_type": "code",
   "execution_count": null,
   "metadata": {
    "colab": {
     "base_uri": "https://localhost:8080/"
    },
    "id": "qv--yXibgjal",
    "outputId": "f3608984-85be-4596-c4c2-204a49c966a4"
   },
   "outputs": [],
   "source": [
    "dt_clean.where( dt_clean.price > 80 ).select(\"book_id\").distinct().show()"
   ]
  },
  {
   "cell_type": "code",
   "execution_count": null,
   "metadata": {
    "id": "rK7tOP_OgsOh"
   },
   "outputs": [],
   "source": [
    "เราสามารถนำ Book_ID อันนี้ไปเช็คต่อกับแหล่งข้อมูลได้ ว่าเป็นหนังสืออะไร และราคาเกิน $80 ผิดปกติมั้ย\n",
    "\n",
    "ถ้าเอาไปเช็คในข้อมูลจาก Workshop 1 ก็จะพบว่า Book_ID = 635 คือ หนังสือชื่อ \"The Power Broker\"\n",
    "https://www.audible.com/pd/The-Power-Broker-Audiobook/B0051JH67K?ipRedirectOverride=true&overrideBaseCountry=true&pf_rd_p=2756bc30-e1e4-4174-bb22-bce00b971761&pf_rd_r=MF7KC1JQF3A6GK2ET8XM"
   ]
  },
  {
   "cell_type": "code",
   "execution_count": null,
   "metadata": {
    "colab": {
     "base_uri": "https://localhost:8080/"
    },
    "id": "KMwaNBsSuygq",
    "outputId": "c3e4fc9f-6d0b-487b-a7f9-8e43a558319e"
   },
   "outputs": [],
   "source": [
    "# แปลงข้อมูลจาก Spark DataFrame ให้เป็น TempView ก่อน\n",
    "dt.createOrReplaceTempView(\"data\")\n",
    "dt_sql = spark.sql(\"SELECT * FROM data\")\n",
    "dt_sql.show()"
   ]
  },
  {
   "cell_type": "code",
   "execution_count": null,
   "metadata": {
    "colab": {
     "base_uri": "https://localhost:8080/"
    },
    "id": "kQLzG7jz06vU",
    "outputId": "c8ef0675-fd20-49cb-ecfc-5a489df1d094"
   },
   "outputs": [],
   "source": [
    "# ลองแปลงโค้ดสำหรับลิสต์ชื่อประเทศเป็น SQL\n",
    "dt_sql_country = spark.sql(\"\"\"\n",
    "SELECT distinct country\n",
    "FROM data\n",
    "ORDER BY country\n",
    "\"\"\")\n",
    "dt_sql_country.show(100)"
   ]
  },
  {
   "cell_type": "code",
   "execution_count": null,
   "metadata": {
    "colab": {
     "base_uri": "https://localhost:8080/"
    },
    "id": "qFnsr05vYnOi",
    "outputId": "b40ff507-0fef-4cf1-a58f-401b485ddc71"
   },
   "outputs": [],
   "source": [
    "# ลองแปลงโค้ดสำหรับแทนที่ชื่อประเทศ เป็น SQL\n",
    "dt_sql_result = spark.sql(\"\"\"\n",
    "SELECT timestamp, user_id, book_id,\n",
    "  CASE WHEN country = 'Japane' THEN 'Japan' ELSE country END AS country,\n",
    "price\n",
    "FROM data\n",
    "\"\"\")\n",
    "dt_sql_result.show()"
   ]
  },
  {
   "cell_type": "code",
   "execution_count": null,
   "metadata": {
    "colab": {
     "base_uri": "https://localhost:8080/"
    },
    "id": "z4dAJncSmK1g",
    "outputId": "c04e7c0b-73eb-427b-be38-6659a306b896"
   },
   "outputs": [],
   "source": [
    "# เช็คผลลัพธ์ว่าถูกจริงมั้ย\n",
    "dt_sql_result.select(\"country\").distinct().sort(\"country\").show(58, False)"
   ]
  },
  {
   "cell_type": "code",
   "execution_count": null,
   "metadata": {
    "colab": {
     "base_uri": "https://localhost:8080/"
    },
    "id": "2QHlrKnPgMRh",
    "outputId": "9f99f324-dca3-4c04-fb43-43faf899b51d"
   },
   "outputs": [],
   "source": [
    "# เช็คว่ามีข้อมูล user_id ที่ไม่เป็นตัวหนังสือหรือตัวเลข 8 หลักมั้ย\n",
    "dt_check_userid = spark.sql(\"\"\"\n",
    "SELECT *\n",
    "FROM data\n",
    "WHERE user_id NOT RLIKE '^[a-z0-9]{8}$'\n",
    "\"\"\").show()"
   ]
  },
  {
   "cell_type": "code",
   "execution_count": null,
   "metadata": {
    "colab": {
     "base_uri": "https://localhost:8080/"
    },
    "id": "cgCm2SiKgMP7",
    "outputId": "27361864-2a6c-441a-d971-c4a6896fafe7"
   },
   "outputs": [],
   "source": [
    "# Solution: แทนค่า (ใช้ CASE WHEN ตามปกติ)\n",
    "dt_sql_uid_result = spark.sql(\"\"\"\n",
    "SELECT timestamp,\n",
    "CASE WHEN user_id = 'ca86d17200' THEN 'ca86d172' ELSE user_id END AS user_id,\n",
    "book_id, country, price\n",
    "FROM data\n",
    "\"\"\")\n",
    "dt_sql_uid_result.show()"
   ]
  },
  {
   "cell_type": "code",
   "execution_count": null,
   "metadata": {
    "colab": {
     "base_uri": "https://localhost:8080/"
    },
    "id": "GZUucKv1q8hB",
    "outputId": "0c711a10-c842-47ad-f32a-f2facc8c1cca"
   },
   "outputs": [],
   "source": [
    "# เช็คว่าข้อมูลหายไปหรือยัง\n",
    "dt_sql_uid_result.where( dt_sql_uid_result.user_id == 'ca86d17200' ).show()"
   ]
  },
  {
   "cell_type": "code",
   "execution_count": null,
   "metadata": {
    "id": "lu3WQ4g8UBra"
   },
   "outputs": [],
   "source": [
    "# Step 5) Save data เป็น CSV\n",
    "\n",
    "โดยปกติแล้ว Spark จะทำการ Save ออกมาเป็นหลายไฟล์ เพราะใช้หลายเครื่องในการประมวลผล"
   ]
  },
  {
   "cell_type": "code",
   "execution_count": null,
   "metadata": {
    "id": "w6ZMEZ-8UIEJ"
   },
   "outputs": [],
   "source": [
    "# เซฟเป็น partitioned files (ใช้ multiple workers)\n",
    "dt_clean.write.csv('Cleaned_data.csv', header = True)"
   ]
  },
  {
   "cell_type": "code",
   "execution_count": null,
   "metadata": {
    "id": "AzMterYlWA5X"
   },
   "outputs": [],
   "source": [
    "# เซฟเป็น 1 ไฟล์ (ใช้ single worker)\n",
    "dt_clean.coalesce(1).write.csv('Cleaned_Data_Single.csv', header = True)"
   ]
  }
 ],
 "metadata": {
  "colab": {
   "provenance": []
  },
  "kernelspec": {
   "display_name": "Python 3",
   "language": "python",
   "name": "python3"
  },
  "language_info": {
   "codemirror_mode": {
    "name": "ipython",
    "version": 3
   },
   "file_extension": ".py",
   "mimetype": "text/x-python",
   "name": "python",
   "nbconvert_exporter": "python",
   "pygments_lexer": "ipython3",
   "version": "3.8.8"
  }
 },
 "nbformat": 4,
 "nbformat_minor": 1
}
